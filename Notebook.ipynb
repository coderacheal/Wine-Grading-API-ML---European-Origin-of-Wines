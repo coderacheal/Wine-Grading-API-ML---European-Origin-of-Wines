{
 "cells": [
  {
   "cell_type": "markdown",
   "metadata": {},
   "source": [
    "# `Wine Grader - European Origin of Wines`\n",
    "\n",
    "### `Stakeholder`\n",
    "- European Origin of Wines\n",
    "- Pinot Nior\n",
    "- Chardonnay\n",
    "- Bolinger\n",
    "  \n",
    "\n",
    "## `Business Understanding`\n",
    "\n",
    "`Goal`: Build a machine learning model to grade wine in accordance with the `Wine Grading Mandate`\n",
    "\n",
    "`Null Hypothesis`: There is no correlation between the alchol content of the wine and the grade\n",
    "\n",
    "`Alternative Hypothesis`: There is a statistically significant correlation between the alcohol content and the grade of wine\n",
    "\n",
    "Analytical Question: \n",
    "\n",
    "1. How strong is the correlation between the alcohol content and the acidity?\n",
    "2. Does the level of inorganic content in the alchol affect the grade?\n",
    "3. Does hue impact the alcohol content?\n",
    "4. How does the taste features of the wine affect its grade and alchol content?\n",
    "5. How does the color features of the wine affect its grade and alchol content?\n",
    "\n",
    "\n",
    "**Features**\n",
    "1. **Alcohol:** The alcohol content of the wine.\n",
    "2. **Malic acid:** The amount of malic acid in the wine, which can affect the taste and acidity.\n",
    "3. **Ash:** The ash content in the wine, representing the inorganic content after incineration.\n",
    "4. **Alcalinity of ash:** The alkalinity of the ash, which can influence the taste and pH of the wine.\n",
    "5. **Magnesium:** The amount of magnesium in the wine.\n",
    "6. **Total phenols:** The total amount of phenolic compounds in the wine, which contribute to its flavor and color.\n",
    "7. **Flavanoids:** The amount of flavonoids in the wine, which are responsible for various sensory attributes.\n",
    "8. **Nonflavanoid phenols:** The amount of non-flavonoid phenolic compounds in the wine.\n",
    "9. **Proanthocyanins:** The amount of proanthocyanins, a type of antioxidant, in the wine.\n",
    "10. **Color intensity:** The color intensity of the wine, which can be influenced by various compounds.\n",
    "11. **Hue:** The hue of the wine, representing the color shade.\n",
    "12. **OD280/OD315 of diluted wines:** The optical density of the wine, which is measured at two different wavelengths. It can provide information about the color.\n",
    "13. **Proline:** The amount of proline, an amino acid, in the wine.\n",
    "14. **Grade**: What grade of wine"
   ]
  },
  {
   "cell_type": "code",
   "execution_count": null,
   "metadata": {},
   "outputs": [],
   "source": []
  }
 ],
 "metadata": {
  "language_info": {
   "name": "python"
  }
 },
 "nbformat": 4,
 "nbformat_minor": 2
}
